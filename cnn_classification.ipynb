{
 "cells": [
  {
   "cell_type": "code",
   "execution_count": 3,
   "metadata": {},
   "outputs": [],
   "source": [
    "import os\n",
    "import src.model as model"
   ]
  },
  {
   "cell_type": "code",
   "execution_count": null,
   "metadata": {},
   "outputs": [],
   "source": [
    "# data\n",
    "dataDir = data_path\n",
    "\n",
    "# result directory\n",
    "outDir  = result_path\n",
    "\n",
    "# make result directory mouse1-mouse5\n",
    "for mouse_id in range(1,6):\n",
    "    path = os.path.join(outDir, 'mouse' + str(mouse_id))\n",
    "    if not os.path.exists(path):\n",
    "        os.makedirs(path)\n",
    "\n",
    "# train, predict\n",
    "for mouse_id in range(1,6):\n",
    "    saveDir = os.path.join(outDir, 'mouse' + str(mouse_id))\n",
    "    trainDir = os.path.join(dataDir, 'image', 'mouse' + str(mouse_id), 'train')\n",
    "    testDir = os.path.join(dataDir, 'image', 'mouse' + str(mouse_id), 'test')\n",
    "    print(saveDir)\n",
    "    print(trainDir)\n",
    "    print(testDir)\n",
    "    x_train, y_train, x_test, y_test = model.load_data(trainDir, testDir, 'cnn')\n",
    "    model.cnn_classification(x_train, y_train, x_test, y_test, saveDir, 300)\n",
    "\n",
    "# mouse1-mouse5 confusion_matrix\n",
    "confusion_matrix = model.merge_confusion_matrix(outDir)\n",
    "ff_out = os.path.join(outDir, 'cnn_classification_confusion_matrix.csv')\n",
    "confusion_matrix.to_csv(ff_out)\n",
    "model.plot_confusion_matrix(outDir, confusion_matrix, 'cnn_classification')"
   ]
  },
  {
   "cell_type": "code",
   "execution_count": null,
   "metadata": {},
   "outputs": [],
   "source": []
  }
 ],
 "metadata": {
  "kernelspec": {
   "display_name": "Python 3",
   "language": "python",
   "name": "python3"
  },
  "language_info": {
   "codemirror_mode": {
    "name": "ipython",
    "version": 3
   },
   "file_extension": ".py",
   "mimetype": "text/x-python",
   "name": "python",
   "nbconvert_exporter": "python",
   "pygments_lexer": "ipython3",
   "version": "3.6.8"
  }
 },
 "nbformat": 4,
 "nbformat_minor": 4
}
